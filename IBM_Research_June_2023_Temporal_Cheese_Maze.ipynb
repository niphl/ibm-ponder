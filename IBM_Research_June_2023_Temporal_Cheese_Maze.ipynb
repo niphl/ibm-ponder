{
  "nbformat": 4,
  "nbformat_minor": 0,
  "metadata": {
    "colab": {
      "provenance": []
    },
    "kernelspec": {
      "name": "python3",
      "display_name": "Python 3"
    },
    "language_info": {
      "name": "python"
    }
  },
  "cells": [
    {
      "cell_type": "markdown",
      "source": [
        "\n",
        "A super intelligent mouse is placed in a three dimensional \"maze\", consisting of a $k\\times k\\times k$ grid, where the mouse is placed at the beginning at $(1,1,1)$ at time $t=1$ .\n",
        "\n",
        "Every cell in the maze contains one unit of cheese. The catch: This is temporal cheese; it's phasing in and out, and is present only at certain times. If the mouse is at cell $(a,b,c)$ at time $t$ where the cheese is present in the cell, the mouse collects it. Afterwards, the cheese no longer appears in that cell!\n",
        "\n",
        "At each time unit, the mouse can either stay in place, or move one step in exactly one direction. The maze has walls allowing only movement right, up, and forward on the X, Y, and Z axes, respectively. For example, if present at $(3,5,1)$ at $t=13$ , the possible locations for the mouse at $t=14$ are\n",
        "\n",
        "$(3,5,1)$ (**waiting** in place)\n",
        "$(4,5,1)$ (moving **right** in the X axis)\n",
        "$(3,6,1)$ (moving **up** in the Y axis)\n",
        "$(3,5,2)$ (moving **forward** in the Z axis)\n",
        "We denote the path taken by the mouse by a sequence of letters: 'W', 'R', 'U', and 'F', corresponding to options 1-4 above.\n",
        "\n",
        "At time $n$ , the mouse is removed from the maze and can no longer collect cheese. His goal: To maximize the cheese collected by then.\n",
        "\n",
        "The phases of the cheese are determined by the following linear congruential generator:\n",
        "\n",
        "$f(x) = (ax+c)\\ mod\\ m$\n",
        "\n",
        "Where\n",
        "\n",
        "$a = 1103515245$\n",
        "\n",
        "$c = 12345$\n",
        "\n",
        "$m = 2^{31}$\n",
        "\n",
        "The cheese is present at $(a,b,c)$ at time $t$ if and only if there is a value $0\\le x < n/2$ such that $t=f(a\\cdot b\\cdot c + x)\\ mod\\ n$ .\n",
        "\n",
        "For example, when $n=20$ and $(a,b,c) = (3,5,1)$ , the set of values of t where the cheese appears is $\\{1, 3, 4, 5, 6, 7, 8, 9, 10, 12\\}$ .\n",
        "\n",
        "For $k=5$ and $n=20$ , the maximum amount of cheese obtainable is 10 units, given by the following path:\n",
        "FFRFWFWRRRUUUWWWUWW\n",
        "\n",
        "Your goal: Find the maximum amount of cheese obtainable for $k=30$ and $n=100$ . Supply your solution as two lines, one with the maximum number of cheese units and the other with the path itself.\n",
        "\n",
        "A bonus \"*\" will be given for solving the same problem for $k=50$ and $n=200$ , but this time allowing the mouse to move in more possible ways: left (L), down (D) and backwards (B) as well as wait (W), right (R), up (U) and forward (F), and allowing the mouse to collect the cheese more than once for the same cell, at each time where the cheese is present there."
      ],
      "metadata": {
        "id": "4Q09zmaVbxho"
      }
    },
    {
      "cell_type": "code",
      "execution_count": null,
      "metadata": {
        "colab": {
          "base_uri": "https://localhost:8080/"
        },
        "id": "wcUQVLAsrLFd",
        "outputId": "4e9a9081-d988-400e-b9e6-998cfcc9b19b"
      },
      "outputs": [
        {
          "output_type": "stream",
          "name": "stdout",
          "text": [
            "1 3 4 5 6 7 8 9 10 12 \n",
            "___C_C_CCCCCC___CC__\n",
            "Count = 10\n"
          ]
        }
      ],
      "source": [
        "# Computes whether there is a cheese at (a,b,c,t)\n",
        "m = 2**31\n",
        "\n",
        "n = 20\n",
        "k = 5\n",
        "def existsCheese(a,b,c,t):\n",
        "  for x in range(n//2):\n",
        "    #print(((1103515245*(a*b*c+x)+12345)%m-t)%n)\n",
        "    if (((1103515245*(a*b*c+x)+12345)%m-t)%n == 0): return True\n",
        "  return False\n",
        "class state:\n",
        "  # a, b, c, t are coordinates of the state, m is number of misses, path tells what previous terms are\n",
        "  def __init__(self,a,b,c,t,m,path):\n",
        "    self.a = a\n",
        "    self.b = b\n",
        "    self.c = c\n",
        "    self.t = t\n",
        "    self.m = m\n",
        "    self.path = path\n",
        "    self.code = self.encode()\n",
        "    self.code2 = self.encode2()\n",
        "  def expand(self):\n",
        "    li = []\n",
        "    if self.a < k: li.append(state(self.a+1,self.b,self.c,self.t+1,self.m+1-1*existsCheese(self.a+1,self.b,self.c,self.t+1),self.path+\"R\"))\n",
        "    if self.b < k: li.append(state(self.a,self.b+1,self.c,self.t+1,self.m+1-1*existsCheese(self.a,self.b+1,self.c,self.t+1),self.path+\"U\"))\n",
        "    if self.c < k: li.append(state(self.a,self.b,self.c+1,self.t+1,self.m+1-1*existsCheese(self.a,self.b,self.c+1,self.t+1),self.path+\"F\"))\n",
        "    li.append(state(self.a,self.b,self.c,self.t+1,self.m+1,self.path+\"W\"))\n",
        "    return li\n",
        "  def goal(self):\n",
        "    return self.t==n\n",
        "  # generates a unique code for each state\n",
        "  # codes with larger value of m will have larger value.\n",
        "  def encode(self):\n",
        "    return 2**self.t*3**self.a*5**self.b*7**self.c+7**n*3**n*self.m\n",
        "  # code 2, stores the coordinates only, used for checking if we visited a state or not already\n",
        "  def encode2(self):\n",
        "    return 2**self.t*3**self.a*5**self.b*7**self.c\n",
        "def checkPath(path):\n",
        "  claimed=False\n",
        "  count = 0\n",
        "  pos = [1,1,1,1]\n",
        "  for i in path:\n",
        "    if (claimed==False) and existsCheese(pos[0],pos[1],pos[2],pos[3]):\n",
        "      print(\"C\",end='')\n",
        "      count += 1\n",
        "      claimed=True\n",
        "    else: print(\"_\",end='')\n",
        "    pos[3] += 1\n",
        "    if i == \"F\": pos[2] += 1\n",
        "    if i == \"U\": pos[1] += 1\n",
        "    if i == \"R\": pos[0] += 1\n",
        "    if i != \"W\": claimed=False\n",
        "  if existsCheese(pos[0],pos[1],pos[2],pos[3]) and claimed==False:\n",
        "    print(\"C\")\n",
        "    count += 1\n",
        "  else: print(\"_\")\n",
        "  print(\"Count = \"+str(count))\n",
        "# for testing.\n",
        "for t in range(20):\n",
        "  if (existsCheese(3,5,1,t)): print(str(t)+\" \",end = '')\n",
        "print()\n",
        "checkPath(\"FFRFWFWRRRUUUWWWUWW\")"
      ]
    },
    {
      "cell_type": "code",
      "source": [
        "import heapq\n",
        "\n",
        "def search_state():\n",
        "  start = state(1,1,1,1,1-existsCheese(1,1,1,1),\"\")\n",
        "  stateDict = dict()\n",
        "  stateDict[start.code] = start\n",
        "  MinPQ = []\n",
        "  heapq.heappush(MinPQ,start.code)\n",
        "  visited = {start.code2}\n",
        "  while(True):\n",
        "    frontCode = heapq.heappop(MinPQ)\n",
        "    frontState = stateDict[frontCode]\n",
        "    stateDict.pop(frontCode)\n",
        "    if frontState.goal():\n",
        "      print(\"Goal Found\")\n",
        "      print(frontState.path)\n",
        "      print(frontState.m)\n",
        "      print(frontState.t)\n",
        "      print(len(frontState.path))\n",
        "      return frontState.path\n",
        "    for item in frontState.expand():\n",
        "      #stateDict[item.code] = item\n",
        "      if not (item.code2 in visited):\n",
        "        stateDict[item.code] = item\n",
        "        heapq.heappush(MinPQ,item.code)\n",
        "        visited.add(item.code2)\n",
        "\n",
        "n = 100\n",
        "k = 30\n",
        "checkPath(search_state())"
      ],
      "metadata": {
        "colab": {
          "base_uri": "https://localhost:8080/"
        },
        "id": "tMPT7yyLu1ba",
        "outputId": "b170e679-5ea6-454f-b2df-b268adf7f927"
      },
      "execution_count": null,
      "outputs": [
        {
          "output_type": "stream",
          "name": "stdout",
          "text": [
            "Goal Found\n",
            "WWRWWRRWRRWRWWWRRWUUUFUWRRRUUUUFFRFFFURRRRUUURFRRRFRRRUUFFFFRFFUUUFFRUUUFFFUFUURFFUFURRURUUFFFUFFWW\n",
            "13\n",
            "100\n",
            "99\n",
            "C__C__CC_CC_C___CC_CCCCC_CCCCCCCCCCCCCCCCCCCCCCCCCCCCCCCCCCCCCCCCCCCCCCCCCCCCCCCCCCCCCCCCCCCCCCCCC__\n",
            "Count = 87\n"
          ]
        }
      ]
    },
    {
      "cell_type": "code",
      "source": [
        "checkPath(\"WWWWWFFWFFWFWWFFFWUUURUWFUUUUUURRURRRUUUUFFURURRFFUFFFRRFURRFRUUURRFRUUFFRRRFUFRRFURFUUFUFFRRRWRRRW\")"
      ],
      "metadata": {
        "colab": {
          "base_uri": "https://localhost:8080/"
        },
        "id": "GUgc_t27sgq4",
        "outputId": "78ec8f95-1202-4fc7-d894-978ed5a84924"
      },
      "execution_count": null,
      "outputs": [
        {
          "output_type": "stream",
          "name": "stdout",
          "text": [
            "C_____CC_CC_C__CCC_CCCCC_CCCCCCCCCCCCCCCCCCCCCCCCCCCCCCCCCCCCCCCCCCCCCCCCCCCCCCCCCCCCCCCCCCCCCC_CCC_\n",
            "Count = 87\n"
          ]
        }
      ]
    },
    {
      "cell_type": "code",
      "source": [
        "# set to save the values of t for which (a,b,c) has cheese.\n",
        "n = 200\n",
        "k = 50\n",
        "cheeseSet = set()\n",
        "for a in range(k):\n",
        "  for b in range(k):\n",
        "    for c in range(k):\n",
        "        for x in range(n//2):\n",
        "          cheeseSet.add((a,b,c,((1103515245*(a*b*c+x)+12345)%m)%n))\n",
        "def existsCheese2(a,b,c,t):\n",
        "    if (a,b,c,t) in cheeseSet: return True\n",
        "    return False\n",
        "class state2:\n",
        "  # a, b, c, t are coordinates of the state, m is number of misses, path tells what previous terms are\n",
        "  def __init__(self,a,b,c,t,m,path):\n",
        "    self.a = a\n",
        "    self.b = b\n",
        "    self.c = c\n",
        "    self.t = t\n",
        "    self.m = m\n",
        "    self.path = path\n",
        "    self.code = self.encode()\n",
        "    self.code2 = self.encode2()\n",
        "  def expand(self):\n",
        "    li = []\n",
        "    if self.a < k: li.append(state2(self.a+1,self.b,self.c,self.t+1,self.m+1-existsCheese2(self.a+1,self.b,self.c,self.t+1),self.path+\"R\"))\n",
        "    if self.b < k: li.append(state2(self.a,self.b+1,self.c,self.t+1,self.m+1-existsCheese2(self.a,self.b+1,self.c,self.t+1),self.path+\"U\"))\n",
        "    if self.c < k: li.append(state2(self.a,self.b,self.c+1,self.t+1,self.m+1-existsCheese2(self.a,self.b,self.c+1,self.t+1),self.path+\"F\"))\n",
        "    # new movements\n",
        "    if self.a > 1: li.append(state2(self.a-1,self.b,self.c,self.t+1,self.m+1-existsCheese2(self.a-1,self.b,self.c,self.t+1),self.path+\"L\"))\n",
        "    if self.b > 1: li.append(state2(self.a,self.b-1,self.c,self.t+1,self.m+1-existsCheese2(self.a,self.b-1,self.c,self.t+1),self.path+\"D\"))\n",
        "    if self.c > 1: li.append(state2(self.a,self.b,self.c-1,self.t+1,self.m+1-existsCheese2(self.a,self.b,self.c-1,self.t+1),self.path+\"B\"))\n",
        "    li.append(state2(self.a,self.b,self.c,self.t+1,self.m+1-existsCheese2(self.a,self.b,self.c,self.t+1),self.path+\"W\"))\n",
        "    return li\n",
        "  def goal(self):\n",
        "    return self.t==n\n",
        "  def encode(self):\n",
        "    return 2**self.t*3**self.a*5**self.b*7**self.c+7**n*3**n*self.m\n",
        "  # code 2, stores the coordinates only, used for checking if we visited a state or not already\n",
        "  def encode2(self):\n",
        "    return 2**self.t*3**self.a*5**self.b*7**self.c\n",
        "def checkPath2(path, cheeseSet):\n",
        "  count = 0\n",
        "  pos = [1,1,1,1]\n",
        "  for i in path:\n",
        "    if (pos[0],pos[1],pos[2],pos[3]) in cheeseSet:\n",
        "      print(\"C\")\n",
        "      count += 1\n",
        "    else: print(\"_\",end='')\n",
        "    pos[3] += 1\n",
        "    if i == \"F\": pos[2] += 1\n",
        "    if i == \"U\": pos[1] += 1\n",
        "    if i == \"R\": pos[0] += 1\n",
        "    if i == \"L\": pos[2] -= 1\n",
        "    if i == \"D\": pos[1] -= 1\n",
        "    if i == \"B\": pos[0] -= 1\n",
        "  if (pos[0],pos[1],pos[2],pos[3]) in cheeseSet:\n",
        "    print(\"C\")\n",
        "    count += 1\n",
        "  else: print(\"_\")\n",
        "  print(\"Count = \"+str(count))"
      ],
      "metadata": {
        "id": "qbuJJw1c_2_S"
      },
      "execution_count": null,
      "outputs": []
    },
    {
      "cell_type": "code",
      "source": [
        "start = state2(1,1,1,1,1,\"\")\n",
        "#print(start)\n",
        "# iterative deepening\n",
        "max_loss = 0\n",
        "found = False\n",
        "while(found == False):\n",
        "  visited = {start.code2:start.m}\n",
        "  objects_expanded = 0\n",
        "  li = [start]\n",
        "  max_depth = 0\n",
        "  while (len(li)>0):\n",
        "    front = li.pop()\n",
        "    max_depth = max(max_depth, front.t)\n",
        "    if front.m > max_loss:\n",
        "      print(max_loss)\n",
        "      print(front.path)\n",
        "    if front.goal():\n",
        "        print(front.path)\n",
        "        print(n-front.m)\n",
        "        #if not found: max_loss -= 1\n",
        "        found = True\n",
        "        break\n",
        "    if front.m < max_loss:\n",
        "      for state in front.expand():\n",
        "        if state.code2 not in visited.keys() or state.m < visited[state.code2]:\n",
        "          li.append(state)\n",
        "          visited[state.code2] = state.m\n",
        "      objects_expanded += 1\n",
        "  print(\"Max Loss \"+str(max_loss)+\", Max Depth \"+str(max_depth)+\", Objects expanded: \"+str(objects_expanded))\n",
        "  max_loss+=1\n",
        "print(\"Max Loss \"+str(max_loss)+\", Objects expanded: \"+str(objects_expanded))"
      ],
      "metadata": {
        "colab": {
          "base_uri": "https://localhost:8080/"
        },
        "id": "7_lFUiTTt5no",
        "outputId": "a0dc41bb-0f77-40fb-ac33-30307abdb553"
      },
      "execution_count": null,
      "outputs": [
        {
          "output_type": "stream",
          "name": "stdout",
          "text": [
            "0\n",
            "\n",
            "Max Loss 0, Max Depth 1, Objects expanded: 0\n",
            "Max Loss 1, Max Depth 1, Objects expanded: 0\n",
            "Max Loss 2, Max Depth 3, Objects expanded: 5\n",
            "Max Loss 3, Max Depth 4, Objects expanded: 15\n",
            "Max Loss 4, Max Depth 6, Objects expanded: 70\n",
            "Max Loss 5, Max Depth 8, Objects expanded: 210\n",
            "Max Loss 6, Max Depth 9, Objects expanded: 330\n",
            "Max Loss 7, Max Depth 11, Objects expanded: 617\n",
            "Max Loss 8, Max Depth 13, Objects expanded: 1213\n",
            "Max Loss 9, Max Depth 16, Objects expanded: 2599\n",
            "Max Loss 10, Max Depth 18, Objects expanded: 4999\n",
            "Max Loss 11, Max Depth 21, Objects expanded: 8956\n",
            "Max Loss 12, Max Depth 23, Objects expanded: 14653\n",
            "Max Loss 13, Max Depth 29, Objects expanded: 23292\n",
            "Max Loss 14, Max Depth 40, Objects expanded: 37857\n",
            "Max Loss 15, Max Depth 49, Objects expanded: 68607\n",
            "WFFFFFFFFFFFUFFFFUURFFUUUUUFRLLUURFRWRDRWRBRLLRWRWUWRDLUWRLLRLLRLLRWRLLRLLRWRBRWRBRWRWUBLUWUWRWFWRWFWFWRBRWUWFBLLFBDFWFWUWFWLFWFWLUWUBLLLLLLLRWRLLRBRLLRDRLLRDLRLRDRDRLLRBRLLRBRBRBRBRWUWRWRBRWRWFWRDLW\n",
            "184\n",
            "Max Loss 16, Max Depth 200, Objects expanded: 73243\n",
            "Max Loss 17, Objects expanded: 73243\n"
          ]
        }
      ]
    },
    {
      "cell_type": "code",
      "source": [
        "def checkPath2(path, cheeseSet):\n",
        "  count = 0\n",
        "  pos = [1,1,1,1]\n",
        "  for i in range(len(path)):\n",
        "    if (pos[0],pos[1],pos[2],pos[3]) in cheeseSet:\n",
        "      print(\"C\",end='')\n",
        "      count += 1\n",
        "    else: print(\"_\",end='')\n",
        "    pos[3] += 1\n",
        "    if path[i] == \"F\": pos[2] += 1\n",
        "    if path[i] == \"U\": pos[1] += 1\n",
        "    if path[i] == \"R\": pos[0] += 1\n",
        "    if path[i] == \"B\": pos[2] -= 1\n",
        "    if path[i] == \"D\": pos[1] -= 1\n",
        "    if path[i] == \"L\": pos[0] -= 1\n",
        "  if (pos[0],pos[1],pos[2],pos[3]) in cheeseSet:\n",
        "    print(\"C\")\n",
        "    count += 1\n",
        "  else: print(\"_\")\n",
        "  print(pos[3])\n",
        "  print(\"Count = \"+str(count))\n",
        "path2 = \"WFFFFFFFFFFFUFFFFUURFFUUUUUFRLLUURFRWRDRWRBRLLRWRWUWRDLUWRLLRLLRLLRWRLLRLLRWRBRWRBRWRWUBLUWUWRWFWRWFWFWRBRWUWFBLLFBDFWFWUWFWLFWFWLUWUBLLLLLLLRWRLLRBRLLRDRLLRDLRLRDRDRLLRBRLLRBRBRBRBRWUWRWRBRWRWFWRDLW\"\n",
        "checkPath2(path2,cheeseSet)"
      ],
      "metadata": {
        "colab": {
          "base_uri": "https://localhost:8080/"
        },
        "id": "BZVVagGAFcY6",
        "outputId": "d7f46df5-c3f7-4fdf-b6b2-920d0f61cad6"
      },
      "execution_count": null,
      "outputs": [
        {
          "output_type": "stream",
          "name": "stdout",
          "text": [
            "_C__C_C__C_C_CC_C_C_CC_C_C_CCCCC_CCCCCCCCCCCCCCCCCCCCCCCCCCCCCCCCCCCCCCCCCCCCCCCCCCCCCCCCCCCCCCCCCCCCCCCCCCCCCCCCCCCCCCCCCCCCCCCCCCCCCCCCCCCCCCCCCCCCCCCCCCCCCCCCCCCCCCCCCCCCCCCCCCCCCCCCCCCCCCCCCCCCCC_\n",
            "200\n",
            "Count = 184\n"
          ]
        }
      ]
    }
  ]
}